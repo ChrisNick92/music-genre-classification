{
 "cells": [
  {
   "attachments": {},
   "cell_type": "markdown",
   "metadata": {},
   "source": [
    "## *Exercise 3 - Music Genre Classification*\n",
    "\n",
    "Συγγραφή: Χρήστος Νίκου\n",
    "\n",
    "Αριθμός Μητρώου: 1115201800330"
   ]
  },
  {
   "attachments": {},
   "cell_type": "markdown",
   "metadata": {},
   "source": [
    "### Task 1 (Feed Forward Neural Network)"
   ]
  },
  {
   "attachments": {},
   "cell_type": "markdown",
   "metadata": {},
   "source": [
    "#### Step 1 (Dataloading of MFCCs)\n",
    "\n",
    "We first begin by preparing the dataloading part for the MFCCs. For this purpose we create a utility `load_mfccs` function located in `utils.py`. The function takes as argument the type of the dataset to load which is either train, test or val. It returns the features of the corresponding dataset as well as the labels for the given dataset. Each one of the labels \"classical\", \"pop\", \"rock\", and \"blues\" are mapped to the integers 0, 1, 2, and 3, respectively. Furthermore, we create a Pytorch dataset object that inherits from `torch.utils.data.Dataset` in order to feed the data to our Neural Network. The class is defined in `utils.py` under the name `VectorDataset`."
   ]
  },
  {
   "cell_type": "code",
   "execution_count": 1,
   "metadata": {},
   "outputs": [],
   "source": [
    "import numpy as np\n",
    "import torch\n",
    "\n",
    "from utils import load_mfccs, VectorDataset\n",
    "import matplotlib.pyplot as plt\n",
    "from torch.utils.data import DataLoader\n",
    "import torch.nn as nn\n",
    "from sklearn.metrics import ConfusionMatrixDisplay\n",
    "from torch.optim import SGD"
   ]
  },
  {
   "attachments": {},
   "cell_type": "markdown",
   "metadata": {},
   "source": [
    "Using the function `load_mfccs` we load the dataset of the mfccs corresponding for the training set."
   ]
  },
  {
   "cell_type": "code",
   "execution_count": null,
   "metadata": {},
   "outputs": [],
   "source": [
    "X, y = load_mfccs('train')"
   ]
  },
  {
   "cell_type": "code",
   "execution_count": null,
   "metadata": {},
   "outputs": [],
   "source": [
    "print(X.shape, y.shape)\n",
    "print(X.dtype)"
   ]
  },
  {
   "attachments": {},
   "cell_type": "markdown",
   "metadata": {},
   "source": [
    "We check the distribution of the classes for the training set."
   ]
  },
  {
   "cell_type": "code",
   "execution_count": null,
   "metadata": {},
   "outputs": [],
   "source": [
    "fig, ax = plt.subplots(figsize=(7, 5))\n",
    "ax.bar(range(4), np.bincount(y))\n",
    "ax.set_title('Distribution of the samples for the training set')\n",
    "plt.show()"
   ]
  },
  {
   "attachments": {},
   "cell_type": "markdown",
   "metadata": {},
   "source": [
    "As we can see the dataset is balanced since each class on the training set contains exactly 800 samples. Below we define the three dataloaders that will be used for training, one for the training set, one for the validation and one for the test set."
   ]
  },
  {
   "cell_type": "code",
   "execution_count": null,
   "metadata": {},
   "outputs": [],
   "source": [
    "X_train, y_train = load_mfccs(mode='train')\n",
    "X_val, y_val = load_mfccs(mode='val')\n",
    "X_test, y_test = load_mfccs(mode='test')\n",
    "\n",
    "train_dloader = DataLoader(VectorDataset(X_train, y_train), batch_size=16, shuffle=True)\n",
    "val_dloader = DataLoader(VectorDataset(X_val, y_val), batch_size=16, shuffle=True)\n",
    "test_dloader = DataLoader(VectorDataset(X_test, y_test), batch_size=16, shuffle=False)"
   ]
  },
  {
   "attachments": {},
   "cell_type": "markdown",
   "metadata": {},
   "source": [
    "#### Step 2 (Defining a Fully connected Neural Network)\n",
    "\n",
    "In the second step we define the first type of Neural Network that we will use to train and classify the samples using the features with the MFCCs. The first architecture is a Fully Connected Neural Network with 4 layers each one of them consisting of 26, 128, 32 and 4 neurons, respectively. The number 26 corresponds to the number of input features and the 4 is the number of classes (classical, hiphop, blues, rock_metal_hardrock). The architecture is located in `models.py` under the name `MLP`. Below you can see the architecture of this Neural Network."
   ]
  },
  {
   "cell_type": "code",
   "execution_count": null,
   "metadata": {},
   "outputs": [],
   "source": [
    "from models import MLP"
   ]
  },
  {
   "cell_type": "code",
   "execution_count": null,
   "metadata": {},
   "outputs": [],
   "source": [
    "model = MLP()\n",
    "model"
   ]
  },
  {
   "attachments": {},
   "cell_type": "markdown",
   "metadata": {},
   "source": [
    "#### Step 3 & 4 (Training loop & Validation loop)\n",
    "\n",
    "In this step we create a custom function, named `training_loop` to handle the training of the Neural Network. The arguments of the function are the number of epochs, the optimizer to be used for training, the two dataloaders corresponding to the training/val sets, and the loss function to be used. The function is in `utils.py`.\n",
    "\n",
    "Furthermore, we design a validation loop through the function `validation_loop` located in `utils.py`. The arguments of the function is the trained model, the test_dloader, and the loss function corresponding to the test samples. The function returns \n",
    "\n",
    "- (i) The average loss across all samples\n",
    "- (ii) The average f1 macro\n",
    "- (iii) The accuracy, and\n",
    "- (iv) The confusion matrix corresponding to the classification."
   ]
  },
  {
   "attachments": {},
   "cell_type": "markdown",
   "metadata": {},
   "source": [
    "#### Step 5 (Training the Feed Forward Neural Network)\n",
    "\n",
    "In this step we train the Feed Forward Neural Network defined in Step 2. We use the utility function `training_loop` and we measure the training time on the CPU. Below we also define the number of epochs, the optimizer, the loss function and the learning rate to be used for training. Furthermore, we use the `validation_loop` to test the model's performance on the test set."
   ]
  },
  {
   "cell_type": "code",
   "execution_count": null,
   "metadata": {},
   "outputs": [],
   "source": [
    "EPOCHS = 30\n",
    "learning_rate = 1e-3\n",
    "loss_fn = nn.CrossEntropyLoss()\n",
    "optim = SGD(model.parameters(), lr=learning_rate)"
   ]
  },
  {
   "cell_type": "code",
   "execution_count": null,
   "metadata": {},
   "outputs": [],
   "source": [
    "from utils import training_loop, validation_loop"
   ]
  },
  {
   "cell_type": "code",
   "execution_count": null,
   "metadata": {},
   "outputs": [],
   "source": [
    "training_loop(EPOCHS, model, train_dloader, val_dloader, optim, loss_fn)"
   ]
  },
  {
   "cell_type": "code",
   "execution_count": null,
   "metadata": {},
   "outputs": [],
   "source": [
    "loss, f1, acc, cm = validation_loop(model, test_dloader, loss_fn)"
   ]
  },
  {
   "cell_type": "code",
   "execution_count": null,
   "metadata": {},
   "outputs": [],
   "source": [
    "print(f'Total loss: {loss:.3f}\\nF1 score: {f1:.3f}\\nAccuracy: {acc:.3f}')"
   ]
  },
  {
   "cell_type": "code",
   "execution_count": null,
   "metadata": {},
   "outputs": [],
   "source": [
    "fig, ax = plt.subplots(figsize = (9, 7))\n",
    "img = ConfusionMatrixDisplay(cm, display_labels=['classical', 'hiphop', 'rock_metal_hardrock', 'blues'])\n",
    "img.plot(ax=ax)\n",
    "ax.set_title('Confusion Matrix - Feed Forward Neural Network')\n",
    "plt.show()"
   ]
  },
  {
   "attachments": {},
   "cell_type": "markdown",
   "metadata": {},
   "source": [
    "#### Step 6 (Training on GPU)\n",
    "\n",
    "Now, we move the model on the GPU and we perform the same training as before and measure the time difference."
   ]
  },
  {
   "cell_type": "code",
   "execution_count": null,
   "metadata": {},
   "outputs": [],
   "source": [
    "# Check if gpu is available\n",
    "device = 'cuda' if torch.cuda.is_available() else 'cpu'\n",
    "print(device)\n",
    "print(torch.cuda.get_device_name())"
   ]
  },
  {
   "cell_type": "code",
   "execution_count": null,
   "metadata": {},
   "outputs": [],
   "source": [
    "model = MLP()\n",
    "model = model.to(device)\n",
    "loss_fn = loss_fn.to(device)\n",
    "optim = SGD(model.parameters(), lr=learning_rate)"
   ]
  },
  {
   "cell_type": "code",
   "execution_count": null,
   "metadata": {},
   "outputs": [],
   "source": [
    "training_loop(\n",
    "    epochs=EPOCHS,\n",
    "    model=model,\n",
    "    train_dloader=train_dloader,\n",
    "    val_dloader=val_dloader,\n",
    "    optim=optim,\n",
    "    loss_fn=loss_fn,\n",
    "    device=device\n",
    ")\n"
   ]
  },
  {
   "attachments": {},
   "cell_type": "markdown",
   "metadata": {},
   "source": [
    "#### Step 7 (Choosing the best model)\n",
    "\n",
    "In this step we train again the Feed Forward Neural Network and keep the model with the highest f1 score on the validation set. To implement this on code we add a boolean flag `keep_best` on the `training_loop`. When this flag is set to True then the model with the lowest f1 score on the validation set is stored in a `.pt` file. Below we see the results of this model too."
   ]
  },
  {
   "cell_type": "code",
   "execution_count": null,
   "metadata": {},
   "outputs": [],
   "source": [
    "model = MLP()\n",
    "optim = SGD(model.parameters(), lr=learning_rate)\n",
    "loss_fn = nn.CrossEntropyLoss()"
   ]
  },
  {
   "cell_type": "code",
   "execution_count": null,
   "metadata": {},
   "outputs": [],
   "source": [
    "training_loop(\n",
    "    epochs=EPOCHS,\n",
    "    model=model,\n",
    "    train_dloader=train_dloader,\n",
    "    val_dloader=val_dloader,\n",
    "    optim=optim,\n",
    "    loss_fn=loss_fn,\n",
    "    device='cpu',\n",
    "    keep_best=True\n",
    ")\n"
   ]
  },
  {
   "cell_type": "code",
   "execution_count": null,
   "metadata": {},
   "outputs": [],
   "source": [
    "# Validating the best model\n",
    "model = MLP()\n",
    "model.load_state_dict(torch.load('model.pt', map_location=torch.device('cpu')))\n",
    "loss, f1, acc, cm = validation_loop(model, test_dloader, loss_fn)"
   ]
  },
  {
   "cell_type": "code",
   "execution_count": null,
   "metadata": {},
   "outputs": [],
   "source": [
    "print(f'-Total Loss: {loss:3f}\\n- F1 score: {f1:.3f}\\n- Accuracy: {acc:.3f}')"
   ]
  },
  {
   "cell_type": "code",
   "execution_count": null,
   "metadata": {},
   "outputs": [],
   "source": [
    "fig, ax = plt.subplots(figsize = (9, 7))\n",
    "img = ConfusionMatrixDisplay(cm, display_labels=['classical', 'hiphop', 'rock_metal_hardrock', 'blues'])\n",
    "img.plot(ax=ax)\n",
    "ax.set_title('Confusion Matrix - Feed Forward Neural Network (best model)')\n",
    "plt.show()"
   ]
  },
  {
   "attachments": {},
   "cell_type": "markdown",
   "metadata": {},
   "source": [
    "### Task 2 (Convolutional Neural Network)\n",
    "\n",
    "In the second part of this task we build a CNN and train it by using the melspectrogram representations of the audio segments. "
   ]
  },
  {
   "attachments": {},
   "cell_type": "markdown",
   "metadata": {},
   "source": [
    "#### Step 1 (DataLoading and Visualizations)\n",
    "\n",
    "As in the case of the Feed Forward Neural Network we define a utility function named `load_spectrograms` in order to parse the data corresponding to the mel-spectrogram representations. Below you can see the spectrograms for each genre from the training set."
   ]
  },
  {
   "cell_type": "code",
   "execution_count": 2,
   "metadata": {},
   "outputs": [],
   "source": [
    "from utils import load_spectrograms, INV_CLASS_MAPPING"
   ]
  },
  {
   "cell_type": "code",
   "execution_count": 3,
   "metadata": {},
   "outputs": [],
   "source": [
    "X, y = load_spectrograms(\"train\")"
   ]
  },
  {
   "cell_type": "code",
   "execution_count": 4,
   "metadata": {},
   "outputs": [
    {
     "name": "stdout",
     "output_type": "stream",
     "text": [
      "(3200, 21, 128) (3200,)\n"
     ]
    }
   ],
   "source": [
    "print(X.shape, y.shape)"
   ]
  },
  {
   "cell_type": "code",
   "execution_count": 5,
   "metadata": {},
   "outputs": [
    {
     "data": {
      "image/png": "[encoded data removed]",
      "text/plain": [
       "<Figure size 800x800 with 4 Axes>"
      ]
     },
     "metadata": {},
     "output_type": "display_data"
    }
   ],
   "source": [
    "fig, ax = plt.subplots(figsize = (8, 8), nrows=4)\n",
    "\n",
    "for i in range(4):\n",
    "    idx = np.argwhere(y == i)[0].item()\n",
    "    S = X[idx]\n",
    "    ax[i].imshow(S)\n",
    "    ax[i].set_title(INV_CLASS_MAPPING[i])\n",
    "\n",
    "plt.show()"
   ]
  },
  {
   "attachments": {},
   "cell_type": "markdown",
   "metadata": {},
   "source": [
    "#### Step 2 (Defining the CNN architecture)\n",
    "\n",
    "In this step we are asked to design a CNN consisting of:\n",
    "\n",
    "1. Four convolutional layers with kernel size equal to 5 such that the sequence of channels is 1, 16, 32, 64, 128\n",
    "2. The output of the last convolutional layer is the input to a fully connected neural network consisting of 5 layers with number of neurons: x (the dimension of the last convolutional layer), 1024, 256, 32, out_dim, where out_dim is the number of classes which is 4 in our case.\n",
    "\n",
    "The architecture is defined in `models.py` under the class name `CNN`."
   ]
  },
  {
   "cell_type": "code",
   "execution_count": 6,
   "metadata": {},
   "outputs": [],
   "source": [
    "from models import CNN\n",
    "\n",
    "device = 'cuda' if torch.cuda.is_available() else 'cpu'\n",
    "model = CNN(H=21, W=128).to(device)"
   ]
  },
  {
   "attachments": {},
   "cell_type": "markdown",
   "metadata": {},
   "source": [
    "#### Step 3 (Training the CNN - 1st Attempt)\n",
    "\n",
    "For the training of the CNN we use the same function (`training_loop`) as in the case of the Feed Forward Neural Network. Furthermore, we define a new dataset class to handle the preprocessing step of the spectrograms to serve as input to the CNN."
   ]
  },
  {
   "cell_type": "code",
   "execution_count": null,
   "metadata": {},
   "outputs": [],
   "source": [
    "EPOCHS = 30\n",
    "learning_rate = 1e-3\n",
    "loss_fn = nn.CrossEntropyLoss().to(device)\n",
    "optim = SGD(model.parameters(), lr=learning_rate)"
   ]
  },
  {
   "cell_type": "code",
   "execution_count": 7,
   "metadata": {},
   "outputs": [],
   "source": [
    "from utils import SpectrogramDataset"
   ]
  },
  {
   "cell_type": "code",
   "execution_count": 8,
   "metadata": {},
   "outputs": [],
   "source": [
    "train_dloader = DataLoader(SpectrogramDataset(*load_spectrograms(\"train\")), batch_size=16, shuffle=True)\n",
    "val_dloader = DataLoader(SpectrogramDataset(*load_spectrograms(\"val\")), batch_size=16, shuffle=True)\n",
    "test_dloader = DataLoader(SpectrogramDataset(*load_spectrograms(\"test\")), batch_size=16, shuffle=False)"
   ]
  },
  {
   "cell_type": "code",
   "execution_count": null,
   "metadata": {},
   "outputs": [],
   "source": [
    "training_loop(\n",
    "    epochs=EPOCHS,\n",
    "    model=model,\n",
    "    train_dloader=train_dloader,\n",
    "    val_dloader=val_dloader,\n",
    "    optim=optim,\n",
    "    loss_fn=loss_fn,\n",
    "    device=device,\n",
    "    keep_best=True\n",
    ")"
   ]
  },
  {
   "attachments": {},
   "cell_type": "markdown",
   "metadata": {},
   "source": [
    "As we can see from the previous graph the training loss but the validation loss constantly increases. This is a clear sign of overfitting. In the next step we add Max Pooling layers to our Network to overcome this problem. Below you can see that the results of the model on the test set are really low, indicating that the model has a poor generalization."
   ]
  },
  {
   "cell_type": "code",
   "execution_count": null,
   "metadata": {},
   "outputs": [],
   "source": [
    "# Validating the best model\n",
    "model = CNN(H=21, W=128).to(device)\n",
    "model.load_state_dict(torch.load('model.pt'))\n",
    "loss, f1, acc, cm = validation_loop(model, test_dloader, loss_fn, device=device)"
   ]
  },
  {
   "cell_type": "code",
   "execution_count": null,
   "metadata": {},
   "outputs": [],
   "source": [
    "print(f'-Total Loss: {loss:3f}\\n- F1 score: {f1:.3f}\\n- Accuracy: {acc:.3f}')"
   ]
  },
  {
   "cell_type": "code",
   "execution_count": null,
   "metadata": {},
   "outputs": [],
   "source": [
    "fig, ax = plt.subplots(figsize = (9, 7))\n",
    "img = ConfusionMatrixDisplay(cm, display_labels=['classical', 'hiphop', 'rock_metal_hardrock', 'blues'])\n",
    "img.plot(ax=ax)\n",
    "ax.set_title('Confusion Matrix - CNN (No Max Pooling)')\n",
    "plt.show()"
   ]
  },
  {
   "attachments": {},
   "cell_type": "markdown",
   "metadata": {},
   "source": [
    "#### Step 4 (Pooling and Padding)\n",
    "\n",
    "In this Step we add Max Pooling layers on the CNN architecture. There are many benefits of pooling operations:\n",
    "\n",
    "1. Spatial down-sampling: Pooling operations, such as max pooling or average pooling, reduce the size of the feature maps. This downsampling reduces the computational complexity and memory requirements of subsequent layers in the network. By reducing the spatial dimensions, the model becomes more computationally efficient.\n",
    "\n",
    "2. Translation invariance: Pooling helps to achieve some degree of translation invariance in the learned features. By summarizing the local information in a pooled representation, the network becomes less sensitive to small spatial variations in the input. This allows the network to recognize the same pattern or object regardless of its exact location in the input.\n",
    "\n",
    "3. Feature extraction: Pooling operations help to capture the most salient features of the input. By performing operations like max pooling, which retains the maximum value within each pooling region, the network focuses on the most activated features, discarding less relevant information. This can improve the network's ability to detect important patterns and make the learned representations more robust.\n",
    "\n",
    "4. Dimensionality reduction: Pooling reduces the number of parameters and computations required in the network, which can help prevent overfitting and improve generalization. By reducing the spatial dimensions, the number of parameters in subsequent layers is reduced, making the network less prone to overfitting and improving its ability to generalize well to new, unseen data.\n",
    "\n",
    "To implement the Max Pooling in our code, we add a boolean flag `pooling` in the constructor of the CNN class. When this flag is set to True then after each convolution a Max pooling with kernel size equal to 2 and padding equal to 2 is used."
   ]
  },
  {
   "cell_type": "code",
   "execution_count": null,
   "metadata": {},
   "outputs": [],
   "source": [
    "model = CNN(H=21, W=128, pooling=True).to(device)"
   ]
  },
  {
   "cell_type": "code",
   "execution_count": null,
   "metadata": {},
   "outputs": [],
   "source": [
    "EPOCHS = 30\n",
    "learning_rate = 1e-3\n",
    "loss_fn = nn.CrossEntropyLoss().to(device)\n",
    "optim = SGD(model.parameters(), lr=learning_rate)"
   ]
  },
  {
   "cell_type": "code",
   "execution_count": null,
   "metadata": {},
   "outputs": [],
   "source": [
    "training_loop(\n",
    "    epochs=EPOCHS,\n",
    "    model=model,\n",
    "    train_dloader=train_dloader,\n",
    "    val_dloader=val_dloader,\n",
    "    optim=optim,\n",
    "    loss_fn=loss_fn,\n",
    "    device=device,\n",
    "    keep_best=True\n",
    ")"
   ]
  },
  {
   "cell_type": "code",
   "execution_count": null,
   "metadata": {},
   "outputs": [],
   "source": [
    "# Validating the best model\n",
    "model = CNN(H=21, W=128, pooling=True).to(device)\n",
    "model.load_state_dict(torch.load('model.pt'))\n",
    "loss, f1, acc, cm = validation_loop(model, test_dloader, loss_fn, device=device)"
   ]
  },
  {
   "cell_type": "code",
   "execution_count": null,
   "metadata": {},
   "outputs": [],
   "source": [
    "print(f'-Total Loss: {loss:3f}\\n- F1 score: {f1:.3f}\\n- Accuracy: {acc:.3f}')"
   ]
  },
  {
   "cell_type": "code",
   "execution_count": null,
   "metadata": {},
   "outputs": [],
   "source": [
    "fig, ax = plt.subplots(figsize = (9, 7))\n",
    "img = ConfusionMatrixDisplay(cm, display_labels=['classical', 'hiphop', 'rock_metal_hardrock', 'blues'])\n",
    "img.plot(ax=ax)\n",
    "ax.set_title('Confusion Matrix - CNN (Max Pooling)')\n",
    "plt.show()"
   ]
  },
  {
   "attachments": {},
   "cell_type": "markdown",
   "metadata": {},
   "source": [
    "#### Step 5 (Optimizers)\n",
    "\n",
    "In this Step we try different optimizers and see the one that achieves the best generalization."
   ]
  },
  {
   "cell_type": "code",
   "execution_count": 12,
   "metadata": {},
   "outputs": [],
   "source": [
    "from torch.optim import Adam, SGD, Adagrad, RMSprop\n",
    "import pandas as pd\n",
    "from utils import train_and_validate"
   ]
  },
  {
   "cell_type": "code",
   "execution_count": 10,
   "metadata": {},
   "outputs": [],
   "source": [
    "optims = [(Adam, 'Adam'), (SGD, 'SGD'), (Adagrad, 'Adagrad'), (RMSprop, 'RMSprop')]"
   ]
  },
  {
   "cell_type": "code",
   "execution_count": 13,
   "metadata": {},
   "outputs": [],
   "source": [
    "EPOCHS = 30\n",
    "learning_rate = 1e-3\n",
    "device = 'cuda' if torch.cuda.is_available() else 'cpu'\n",
    "loss_fn = nn.CrossEntropyLoss().to(device)"
   ]
  },
  {
   "cell_type": "code",
   "execution_count": 15,
   "metadata": {},
   "outputs": [],
   "source": [
    "f1s, accs, losses, names = [], [], [], []\n",
    "for optim, name in optims:\n",
    "    model = CNN(H=21, W=128, pooling=True).to(device)\n",
    "    op = optim(model.parameters(), lr=learning_rate)\n",
    "    loss, f1, acc, _ = train_and_validate(\n",
    "        model=model,\n",
    "        epochs=EPOCHS,\n",
    "        train_dloader=train_dloader,\n",
    "        val_dloader=val_dloader,\n",
    "        test_dloader=test_dloader,\n",
    "        optim=op,\n",
    "        loss_fn=loss_fn,\n",
    "        device=device\n",
    "    )\n",
    "    names.append(name)\n",
    "    f1s.append(f1)\n",
    "    losses.append(loss)\n",
    "    accs.append(acc)"
   ]
  },
  {
   "cell_type": "code",
   "execution_count": 18,
   "metadata": {},
   "outputs": [
    {
     "data": {
      "text/html": [
       "<div>\n",
       "<style scoped>\n",
       "    .dataframe tbody tr th:only-of-type {\n",
       "        vertical-align: middle;\n",
       "    }\n",
       "\n",
       "    .dataframe tbody tr th {\n",
       "        vertical-align: top;\n",
       "    }\n",
       "\n",
       "    .dataframe thead th {\n",
       "        text-align: right;\n",
       "    }\n",
       "</style>\n",
       "<table border=\"1\" class=\"dataframe\">\n",
       "  <thead>\n",
       "    <tr style=\"text-align: right;\">\n",
       "      <th></th>\n",
       "      <th>F1 score</th>\n",
       "      <th>Accuracy</th>\n",
       "      <th>Loss</th>\n",
       "    </tr>\n",
       "  </thead>\n",
       "  <tbody>\n",
       "    <tr>\n",
       "      <th>SGD</th>\n",
       "      <td>0.681271</td>\n",
       "      <td>0.678779</td>\n",
       "      <td>0.878719</td>\n",
       "    </tr>\n",
       "    <tr>\n",
       "      <th>Adagrad</th>\n",
       "      <td>0.665522</td>\n",
       "      <td>0.656977</td>\n",
       "      <td>0.873810</td>\n",
       "    </tr>\n",
       "    <tr>\n",
       "      <th>Adam</th>\n",
       "      <td>0.642118</td>\n",
       "      <td>0.635901</td>\n",
       "      <td>1.156430</td>\n",
       "    </tr>\n",
       "    <tr>\n",
       "      <th>RMSprop</th>\n",
       "      <td>0.626840</td>\n",
       "      <td>0.636628</td>\n",
       "      <td>3.164322</td>\n",
       "    </tr>\n",
       "  </tbody>\n",
       "</table>\n",
       "</div>"
      ],
      "text/plain": [
       "         F1 score  Accuracy      Loss\n",
       "SGD      0.681271  0.678779  0.878719\n",
       "Adagrad  0.665522  0.656977  0.873810\n",
       "Adam     0.642118  0.635901  1.156430\n",
       "RMSprop  0.626840  0.636628  3.164322"
      ]
     },
     "execution_count": 18,
     "metadata": {},
     "output_type": "execute_result"
    }
   ],
   "source": [
    "results = pd.DataFrame({\n",
    "    'F1 score': f1s,\n",
    "    'Accuracy': accs,\n",
    "    'Loss': losses\n",
    "}, index=names).sort_values(by=['F1 score'], ascending=False)\n",
    "results"
   ]
  },
  {
   "cell_type": "code",
   "execution_count": null,
   "metadata": {},
   "outputs": [],
   "source": []
  }
 ],
 "metadata": {
  "kernelspec": {
   "display_name": "music_genre",
   "language": "python",
   "name": "python3"
  },
  "language_info": {
   "codemirror_mode": {
    "name": "ipython",
    "version": 3
   },
   "file_extension": ".py",
   "mimetype": "text/x-python",
   "name": "python",
   "nbconvert_exporter": "python",
   "pygments_lexer": "ipython3",
   "version": "3.9.16"
  },
  "orig_nbformat": 4
 },
 "nbformat": 4,
 "nbformat_minor": 2
}
