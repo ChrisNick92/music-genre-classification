{
 "cells": [
  {
   "attachments": {},
   "cell_type": "markdown",
   "metadata": {},
   "source": [
    "## *Music Genre Classification*"
   ]
  },
  {
   "attachments": {},
   "cell_type": "markdown",
   "metadata": {},
   "source": [
    "### Task 1 (Feed Forward Neural Network)"
   ]
  },
  {
   "attachments": {},
   "cell_type": "markdown",
   "metadata": {},
   "source": [
    "#### Step 1 (Dataloading of MFCCs)\n",
    "\n",
    "We first begin by preparing the dataloading part for the MFCCs. For this purpose we create a utility `load_mfccs` function located in `utils.py`. The function takes as argument the type of the dataset to load which is either train, test or val. It returns the features of the corresponding dataset as well as the labels for the given dataset. Each one of the labels \"classical\", \"pop\", \"rock\", and \"blues\" are mapped to the integers 0, 1, 2, and 3, respectively. Furthermore, we create a Pytorch dataset object that inherits from `torch.utils.data.Dataset` in order to feed the data to our Neural Network. The class is defined in `utils.py` under the name `VectorDataset`."
   ]
  },
  {
   "cell_type": "code",
   "execution_count": 1,
   "metadata": {},
   "outputs": [],
   "source": [
    "import numpy as np\n",
    "import torch\n",
    "\n",
    "from utils import load_mfccs, VectorDataset\n",
    "import matplotlib.pyplot as plt\n",
    "from torch.utils.data import DataLoader\n",
    "import torch.nn as nn\n",
    "from sklearn.metrics import ConfusionMatrixDisplay\n",
    "from torch.optim import SGD"
   ]
  },
  {
   "attachments": {},
   "cell_type": "markdown",
   "metadata": {},
   "source": [
    "Using the function `load_mfccs` we load the dataset of the mfccs corresponding for the training set."
   ]
  },
  {
   "cell_type": "code",
   "execution_count": null,
   "metadata": {},
   "outputs": [],
   "source": [
    "X, y = load_mfccs('train')"
   ]
  },
  {
   "cell_type": "code",
   "execution_count": null,
   "metadata": {},
   "outputs": [],
   "source": [
    "print(X.shape, y.shape)\n",
    "print(X.dtype)"
   ]
  },
  {
   "attachments": {},
   "cell_type": "markdown",
   "metadata": {},
   "source": [
    "We check the distribution of the classes for the training set."
   ]
  },
  {
   "cell_type": "code",
   "execution_count": null,
   "metadata": {},
   "outputs": [],
   "source": [
    "fig, ax = plt.subplots(figsize=(7, 5))\n",
    "ax.bar(range(4), np.bincount(y))\n",
    "ax.set_title('Distribution of the samples for the training set')\n",
    "plt.show()"
   ]
  },
  {
   "attachments": {},
   "cell_type": "markdown",
   "metadata": {},
   "source": [
    "As we can see the dataset is balanced since each class on the training set contains exactly 800 samples. Below we define the three dataloaders that will be used for training, one for the training set, one for the validation and one for the test set."
   ]
  },
  {
   "cell_type": "code",
   "execution_count": null,
   "metadata": {},
   "outputs": [],
   "source": [
    "X_train, y_train = load_mfccs(mode='train')\n",
    "X_val, y_val = load_mfccs(mode='val')\n",
    "X_test, y_test = load_mfccs(mode='test')\n",
    "\n",
    "train_dloader = DataLoader(VectorDataset(X_train, y_train), batch_size=16, shuffle=True)\n",
    "val_dloader = DataLoader(VectorDataset(X_val, y_val), batch_size=16, shuffle=True)\n",
    "test_dloader = DataLoader(VectorDataset(X_test, y_test), batch_size=16, shuffle=False)"
   ]
  },
  {
   "attachments": {},
   "cell_type": "markdown",
   "metadata": {},
   "source": [
    "#### Step 2 (Defining a Fully connected Neural Network)\n",
    "\n",
    "In the second step we define the first type of Neural Network that we will use to train and classify the samples using the features with the MFCCs. The first architecture is a Fully Connected Neural Network with 4 layers each one of them consisting of 26, 128, 32 and 4 neurons, respectively. The number 26 corresponds to the number of input features and the 4 is the number of classes (classical, hiphop, blues, rock_metal_hardrock). The architecture is located in `models.py` under the name `MLP`. Below you can see the architecture of this Neural Network."
   ]
  },
  {
   "cell_type": "code",
   "execution_count": null,
   "metadata": {},
   "outputs": [],
   "source": [
    "from models import MLP"
   ]
  },
  {
   "cell_type": "code",
   "execution_count": null,
   "metadata": {},
   "outputs": [],
   "source": [
    "model = MLP()\n",
    "model"
   ]
  },
  {
   "attachments": {},
   "cell_type": "markdown",
   "metadata": {},
   "source": [
    "#### Step 3 & 4 (Training loop & Validation loop)\n",
    "\n",
    "In this step we create a custom function, named `training_loop` to handle the training of the Neural Network. The arguments of the function are the number of epochs, the optimizer to be used for training, the two dataloaders corresponding to the training/val sets, and the loss function to be used. The function is in `utils.py`.\n",
    "\n",
    "Furthermore, we design a validation loop through the function `validation_loop` located in `utils.py`. The arguments of the function is the trained model, the test_dloader, and the loss function corresponding to the test samples. The function returns \n",
    "\n",
    "- (i) The average loss across all samples\n",
    "- (ii) The average f1 macro\n",
    "- (iii) The accuracy, and\n",
    "- (iv) The confusion matrix corresponding to the classification."
   ]
  },
  {
   "attachments": {},
   "cell_type": "markdown",
   "metadata": {},
   "source": [
    "#### Step 5 (Training the Feed Forward Neural Network)\n",
    "\n",
    "In this step we train the Feed Forward Neural Network defined in Step 2. We use the utility function `training_loop` and we measure the training time on the CPU. Below we also define the number of epochs, the optimizer, the loss function and the learning rate to be used for training. Furthermore, we use the `validation_loop` to test the model's performance on the test set."
   ]
  },
  {
   "cell_type": "code",
   "execution_count": null,
   "metadata": {},
   "outputs": [],
   "source": [
    "EPOCHS = 30\n",
    "learning_rate = 2e-3\n",
    "loss_fn = nn.CrossEntropyLoss()\n",
    "optim = SGD(model.parameters(), lr=learning_rate)"
   ]
  },
  {
   "cell_type": "code",
   "execution_count": null,
   "metadata": {},
   "outputs": [],
   "source": [
    "from utils import training_loop, validation_loop"
   ]
  },
  {
   "cell_type": "code",
   "execution_count": null,
   "metadata": {},
   "outputs": [],
   "source": [
    "training_loop(EPOCHS, model, train_dloader, val_dloader, optim, loss_fn)"
   ]
  },
  {
   "cell_type": "code",
   "execution_count": null,
   "metadata": {},
   "outputs": [],
   "source": [
    "loss, f1, acc, cm = validation_loop(model, test_dloader, loss_fn)"
   ]
  },
  {
   "cell_type": "code",
   "execution_count": null,
   "metadata": {},
   "outputs": [],
   "source": [
    "print(f'Total loss: {loss:.3f}\\nF1 score: {f1:.3f}\\nAccuracy: {acc:.3f}')"
   ]
  },
  {
   "cell_type": "code",
   "execution_count": null,
   "metadata": {},
   "outputs": [],
   "source": [
    "fig, ax = plt.subplots(figsize = (9, 7))\n",
    "img = ConfusionMatrixDisplay(cm, display_labels=['classical', 'hiphop', 'rock_metal_hardrock', 'blues'])\n",
    "img.plot(ax=ax)\n",
    "ax.set_title('Confusion Matrix - Feed Forward Neural Network')\n",
    "plt.show()"
   ]
  },
  {
   "attachments": {},
   "cell_type": "markdown",
   "metadata": {},
   "source": [
    "#### Step 6 (Training on GPU)\n",
    "\n",
    "Now, we move the model on the GPU and we perform the same training as before and measure the time difference."
   ]
  },
  {
   "cell_type": "code",
   "execution_count": null,
   "metadata": {},
   "outputs": [],
   "source": [
    "# Check if gpu is available\n",
    "device = 'cuda' if torch.cuda.is_available() else 'cpu'\n",
    "print(device)\n",
    "print(torch.cuda.get_device_name())"
   ]
  },
  {
   "cell_type": "code",
   "execution_count": null,
   "metadata": {},
   "outputs": [],
   "source": [
    "model = MLP()\n",
    "model = model.to(device)\n",
    "loss_fn = loss_fn.to(device)\n",
    "optim = SGD(model.parameters(), lr=learning_rate)"
   ]
  },
  {
   "cell_type": "code",
   "execution_count": null,
   "metadata": {},
   "outputs": [],
   "source": [
    "training_loop(\n",
    "    epochs=EPOCHS,\n",
    "    model=model,\n",
    "    train_dloader=train_dloader,\n",
    "    val_dloader=val_dloader,\n",
    "    optim=optim,\n",
    "    loss_fn=loss_fn,\n",
    "    device=device\n",
    ")\n"
   ]
  },
  {
   "attachments": {},
   "cell_type": "markdown",
   "metadata": {},
   "source": [
    "#### Step 7 (Choosing the best model)\n",
    "\n",
    "In this step we train again the Feed Forward Neural Network and keep the model with the highest f1 score on the validation set. To implement this on code we add a boolean flag `keep_best` on the `training_loop`. When this flag is set to True then the model with the lowest f1 score on the validation set is stored in a `.pt` file. Below we see the results of this model too."
   ]
  },
  {
   "cell_type": "code",
   "execution_count": null,
   "metadata": {},
   "outputs": [],
   "source": [
    "model = MLP()\n",
    "optim = SGD(model.parameters(), lr=learning_rate)\n",
    "loss_fn = nn.CrossEntropyLoss()"
   ]
  },
  {
   "cell_type": "code",
   "execution_count": null,
   "metadata": {},
   "outputs": [],
   "source": [
    "training_loop(\n",
    "    epochs=EPOCHS,\n",
    "    model=model,\n",
    "    train_dloader=train_dloader,\n",
    "    val_dloader=val_dloader,\n",
    "    optim=optim,\n",
    "    loss_fn=loss_fn,\n",
    "    device='cpu',\n",
    "    keep_best=True\n",
    ")\n"
   ]
  },
  {
   "cell_type": "code",
   "execution_count": null,
   "metadata": {},
   "outputs": [],
   "source": [
    "# Validating the best model\n",
    "model = MLP()\n",
    "model.load_state_dict(torch.load('model.pt', map_location=torch.device('cpu')))\n",
    "loss, f1, acc, cm = validation_loop(model, test_dloader, loss_fn)"
   ]
  },
  {
   "cell_type": "code",
   "execution_count": null,
   "metadata": {},
   "outputs": [],
   "source": [
    "print(f'-Total Loss: {loss:3f}\\n- F1 score: {f1:.3f}\\n- Accuracy: {acc:.3f}')"
   ]
  },
  {
   "cell_type": "code",
   "execution_count": null,
   "metadata": {},
   "outputs": [],
   "source": [
    "fig, ax = plt.subplots(figsize = (9, 7))\n",
    "img = ConfusionMatrixDisplay(cm, display_labels=['classical', 'hiphop', 'rock_metal_hardrock', 'blues'])\n",
    "img.plot(ax=ax)\n",
    "ax.set_title('Confusion Matrix - Feed Forward Neural Network (best model)')\n",
    "plt.show()"
   ]
  },
  {
   "attachments": {},
   "cell_type": "markdown",
   "metadata": {},
   "source": [
    "### Task 2 (Convolutional Neural Network)\n",
    "\n",
    "In the second part of this task we build a CNN and train it by using the melspectrogram representations of the audio segments. "
   ]
  },
  {
   "attachments": {},
   "cell_type": "markdown",
   "metadata": {},
   "source": [
    "#### Step 1 (DataLoading and Visualizations)\n",
    "\n",
    "As in the case of the Feed Forward Neural Network we define a utility function named `load_spectrograms` in order to parse the data corresponding to the mel-spectrogram representations. Below you can see the spectrograms for each genre from the training set."
   ]
  },
  {
   "cell_type": "code",
   "execution_count": null,
   "metadata": {},
   "outputs": [],
   "source": [
    "from utils import load_spectrograms, INV_CLASS_MAPPING"
   ]
  },
  {
   "cell_type": "code",
   "execution_count": null,
   "metadata": {},
   "outputs": [],
   "source": [
    "X, y = load_spectrograms(\"train\")"
   ]
  },
  {
   "cell_type": "code",
   "execution_count": null,
   "metadata": {},
   "outputs": [],
   "source": [
    "print(X.shape, y.shape)"
   ]
  },
  {
   "cell_type": "code",
   "execution_count": null,
   "metadata": {},
   "outputs": [],
   "source": [
    "fig, ax = plt.subplots(figsize = (8, 8), nrows=4)\n",
    "\n",
    "for i in range(4):\n",
    "    idx = np.argwhere(y == i)[0].item()\n",
    "    S = X[idx]\n",
    "    ax[i].imshow(S)\n",
    "    ax[i].set_title(INV_CLASS_MAPPING[i])\n",
    "\n",
    "plt.show()"
   ]
  },
  {
   "attachments": {},
   "cell_type": "markdown",
   "metadata": {},
   "source": [
    "#### Step 2 (Defining the CNN architecture)\n",
    "\n",
    "In this step we are asked to design a CNN consisting of:\n",
    "\n",
    "1. Four convolutional layers with kernel size equal to 5 such that the sequence of channels is 1, 16, 32, 64, 128\n",
    "2. The output of the last convolutional layer is the input to a fully connected neural network consisting of 5 layers with number of neurons: x (the dimension of the last convolutional layer), 1024, 256, 32, out_dim, where out_dim is the number of classes which is 4 in our case.\n",
    "\n",
    "The architecture is defined in `models.py` under the class name `CNN`."
   ]
  },
  {
   "cell_type": "code",
   "execution_count": null,
   "metadata": {},
   "outputs": [],
   "source": [
    "from models import CNN\n",
    "\n",
    "device = 'cuda' if torch.cuda.is_available() else 'cpu'\n",
    "model = CNN(H=21, W=128).to(device)"
   ]
  },
  {
   "attachments": {},
   "cell_type": "markdown",
   "metadata": {},
   "source": [
    "#### Step 3 (Training the CNN - 1st Attempt)\n",
    "\n",
    "For the training of the CNN we use the same function (`training_loop`) as in the case of the Feed Forward Neural Network. Furthermore, we define a new dataset class to handle the preprocessing step of the spectrograms to serve as input to the CNN."
   ]
  },
  {
   "cell_type": "code",
   "execution_count": null,
   "metadata": {},
   "outputs": [],
   "source": [
    "EPOCHS = 30\n",
    "learning_rate = 2e-3\n",
    "loss_fn = nn.CrossEntropyLoss().to(device)\n",
    "optim = SGD(model.parameters(), lr=learning_rate)"
   ]
  },
  {
   "cell_type": "code",
   "execution_count": null,
   "metadata": {},
   "outputs": [],
   "source": [
    "from utils import SpectrogramDataset"
   ]
  },
  {
   "cell_type": "code",
   "execution_count": null,
   "metadata": {},
   "outputs": [],
   "source": [
    "train_dloader = DataLoader(SpectrogramDataset(*load_spectrograms(\"train\")), batch_size=16, shuffle=True)\n",
    "val_dloader = DataLoader(SpectrogramDataset(*load_spectrograms(\"val\")), batch_size=16, shuffle=True)\n",
    "test_dloader = DataLoader(SpectrogramDataset(*load_spectrograms(\"test\")), batch_size=16, shuffle=False)"
   ]
  },
  {
   "cell_type": "code",
   "execution_count": null,
   "metadata": {},
   "outputs": [],
   "source": [
    "training_loop(\n",
    "    epochs=EPOCHS,\n",
    "    model=model,\n",
    "    train_dloader=train_dloader,\n",
    "    val_dloader=val_dloader,\n",
    "    optim=optim,\n",
    "    loss_fn=loss_fn,\n",
    "    device=device,\n",
    "    keep_best=True\n",
    ")"
   ]
  },
  {
   "attachments": {},
   "cell_type": "markdown",
   "metadata": {},
   "source": [
    "As we can see from the previous training the model cannot be trained properly on the spectrograms corresponding to the music segments. To alleviate this problem, in the next sections we will introduce the max pooling operation to allow the network to extract relevant information from the input features and speed up the training procedure by reducing the size of the representations after each convolutional operation. Below we validate the model on the test set. As expected, the model has poor generalization on unseen data."
   ]
  },
  {
   "cell_type": "code",
   "execution_count": null,
   "metadata": {},
   "outputs": [],
   "source": [
    "# Validating the best model\n",
    "model = CNN(H=21, W=128).to(device)\n",
    "model.load_state_dict(torch.load('model.pt'))\n",
    "loss, f1, acc, cm = validation_loop(model, test_dloader, loss_fn, device=device)"
   ]
  },
  {
   "cell_type": "code",
   "execution_count": null,
   "metadata": {},
   "outputs": [],
   "source": [
    "print(f'-Total Loss: {loss:3f}\\n- F1 score: {f1:.3f}\\n- Accuracy: {acc:.3f}')"
   ]
  },
  {
   "cell_type": "code",
   "execution_count": null,
   "metadata": {},
   "outputs": [],
   "source": [
    "fig, ax = plt.subplots(figsize = (9, 7))\n",
    "img = ConfusionMatrixDisplay(cm, display_labels=['classical', 'hiphop', 'rock_metal_hardrock', 'blues'])\n",
    "img.plot(ax=ax)\n",
    "ax.set_title('Confusion Matrix - CNN (No Max Pooling)')\n",
    "plt.show()"
   ]
  },
  {
   "attachments": {},
   "cell_type": "markdown",
   "metadata": {},
   "source": [
    "#### Step 4 (Pooling and Padding)\n",
    "\n",
    "In this Step we add Max Pooling layers on the CNN architecture. There are many benefits of pooling operations:\n",
    "\n",
    "1. Spatial down-sampling: Pooling operations, such as max pooling or average pooling, reduce the size of the feature maps. This downsampling reduces the computational complexity and memory requirements of subsequent layers in the network. By reducing the spatial dimensions, the model becomes more computationally efficient.\n",
    "\n",
    "2. Translation invariance: Pooling helps to achieve some degree of translation invariance in the learned features. By summarizing the local information in a pooled representation, the network becomes less sensitive to small spatial variations in the input. This allows the network to recognize the same pattern or object regardless of its exact location in the input.\n",
    "\n",
    "3. Feature extraction: Pooling operations help to capture the most salient features of the input. By performing operations like max pooling, which retains the maximum value within each pooling region, the network focuses on the most activated features, discarding less relevant information. This can improve the network's ability to detect important patterns and make the learned representations more robust.\n",
    "\n",
    "4. Dimensionality reduction: Pooling reduces the number of parameters and computations required in the network, which can help prevent overfitting and improve generalization. By reducing the spatial dimensions, the number of parameters in subsequent layers is reduced, making the network less prone to overfitting and improving its ability to generalize well to new, unseen data.\n",
    "\n",
    "To implement the Max Pooling in our code, we add a boolean flag `pooling` in the constructor of the CNN class. When this flag is set to True then after each convolution a Max pooling with kernel size equal to 2 and padding equal to 2 is used."
   ]
  },
  {
   "cell_type": "code",
   "execution_count": null,
   "metadata": {},
   "outputs": [],
   "source": [
    "model = CNN(H=21, W=128, pooling=True).to(device)"
   ]
  },
  {
   "cell_type": "code",
   "execution_count": null,
   "metadata": {},
   "outputs": [],
   "source": [
    "EPOCHS = 30\n",
    "learning_rate = 2e-3\n",
    "loss_fn = nn.CrossEntropyLoss().to(device)\n",
    "optim = SGD(model.parameters(), lr=learning_rate)"
   ]
  },
  {
   "cell_type": "code",
   "execution_count": null,
   "metadata": {},
   "outputs": [],
   "source": [
    "training_loop(\n",
    "    epochs=EPOCHS,\n",
    "    model=model,\n",
    "    train_dloader=train_dloader,\n",
    "    val_dloader=val_dloader,\n",
    "    optim=optim,\n",
    "    loss_fn=loss_fn,\n",
    "    device=device,\n",
    "    keep_best=True\n",
    ")"
   ]
  },
  {
   "attachments": {},
   "cell_type": "markdown",
   "metadata": {},
   "source": [
    "As opposed to the non max pooling case, we see that this time the training and validation loss are finite numbers, meaning that this time the model is able to train on the spectrograms and extract relevant information from the features. However, we see that the training loss keeps decreasing while the validation loss stops decreasing after some point. This is a clear sign of overfitting. In the next sections we will introduce other deep learning techiniques, such as regularization and dropout to tackle this problem."
   ]
  },
  {
   "cell_type": "code",
   "execution_count": null,
   "metadata": {},
   "outputs": [],
   "source": [
    "# Validating the best model\n",
    "model = CNN(H=21, W=128, pooling=True).to(device)\n",
    "model.load_state_dict(torch.load('model.pt'))\n",
    "loss, f1, acc, cm = validation_loop(model, test_dloader, loss_fn, device=device)"
   ]
  },
  {
   "cell_type": "code",
   "execution_count": null,
   "metadata": {},
   "outputs": [],
   "source": [
    "print(f'-Total Loss: {loss:3f}\\n- F1 score: {f1:.3f}\\n- Accuracy: {acc:.3f}')"
   ]
  },
  {
   "cell_type": "code",
   "execution_count": null,
   "metadata": {},
   "outputs": [],
   "source": [
    "fig, ax = plt.subplots(figsize = (9, 7))\n",
    "img = ConfusionMatrixDisplay(cm, display_labels=['classical', 'hiphop', 'rock_metal_hardrock', 'blues'])\n",
    "img.plot(ax=ax)\n",
    "ax.set_title('Confusion Matrix - CNN (Max Pooling)')\n",
    "plt.show()"
   ]
  },
  {
   "attachments": {},
   "cell_type": "markdown",
   "metadata": {},
   "source": [
    "#### Step 5 (Optimizers)\n",
    "\n",
    "In this Step we try different optimizers and see the one that achieves the best generalization."
   ]
  },
  {
   "cell_type": "code",
   "execution_count": null,
   "metadata": {},
   "outputs": [],
   "source": [
    "from torch.optim import Adam, SGD, Adagrad, RMSprop\n",
    "import pandas as pd\n",
    "from utils import train_and_validate"
   ]
  },
  {
   "cell_type": "code",
   "execution_count": null,
   "metadata": {},
   "outputs": [],
   "source": [
    "optims = [(Adam, 'Adam'), (SGD, 'SGD'), (Adagrad, 'Adagrad'), (RMSprop, 'RMSprop')]"
   ]
  },
  {
   "cell_type": "code",
   "execution_count": null,
   "metadata": {},
   "outputs": [],
   "source": [
    "EPOCHS = 30\n",
    "learning_rate = 2e-3\n",
    "device = 'cuda' if torch.cuda.is_available() else 'cpu'\n",
    "loss_fn = nn.CrossEntropyLoss().to(device)"
   ]
  },
  {
   "cell_type": "code",
   "execution_count": null,
   "metadata": {},
   "outputs": [],
   "source": [
    "f1s, accs, losses, names = [], [], [], []\n",
    "for optim, name in optims:\n",
    "    model = CNN(H=21, W=128, pooling=True).to(device)\n",
    "    op = optim(model.parameters(), lr=learning_rate)\n",
    "    loss, f1, acc, _ = train_and_validate(\n",
    "        model=model,\n",
    "        epochs=EPOCHS,\n",
    "        train_dloader=train_dloader,\n",
    "        val_dloader=val_dloader,\n",
    "        test_dloader=test_dloader,\n",
    "        optim=op,\n",
    "        loss_fn=loss_fn,\n",
    "        device=device\n",
    "    )\n",
    "    names.append(name)\n",
    "    f1s.append(f1)\n",
    "    losses.append(loss)\n",
    "    accs.append(acc)"
   ]
  },
  {
   "cell_type": "code",
   "execution_count": null,
   "metadata": {},
   "outputs": [],
   "source": [
    "results = pd.DataFrame({\n",
    "    'F1 score': f1s,\n",
    "    'Accuracy': accs,\n",
    "    'Loss': losses\n",
    "}, index=names).sort_values(by=['F1 score'], ascending=False)\n",
    "results"
   ]
  },
  {
   "attachments": {},
   "cell_type": "markdown",
   "metadata": {},
   "source": [
    "We can see that the best performance is achieved when the CNN is trained with the Adagram optimizer. In the next sections we will use this optimizer."
   ]
  },
  {
   "attachments": {},
   "cell_type": "markdown",
   "metadata": {},
   "source": [
    "## Step 3 (Improving Performance)\n",
    "\n",
    "In this section we are experimenting with various deep learning methods in order to improve the performance of the CNN."
   ]
  },
  {
   "attachments": {},
   "cell_type": "markdown",
   "metadata": {},
   "source": [
    "#### Step 1 (Reproducibility)\n",
    "\n",
    "In order to decide which set up leads to the best generalization we will need to try different combinations, and hence, each experiment must be conducted under the same setting, in other words we will need to fix any kind of randomness that might be involved in our training procedure in such a way that each setup is tested under the same conditions. To this end, below we make all the necessary modifications such that the DataLoaders during training shuffle the dataset but in the same manner across different training runs. Furthermore, we set a random seed to the initialization weights of the CNN. To test that everything works as expected we try two identical training runs and check if the training/validation losses coincide."
   ]
  },
  {
   "cell_type": "code",
   "execution_count": null,
   "metadata": {},
   "outputs": [],
   "source": [
    "# Setting a seed method to DataLoaders\n",
    "g_cpu = torch.Generator(device='cpu')\n",
    "train_dloader = DataLoader(\n",
    "    SpectrogramDataset(*load_spectrograms(\"train\")), batch_size=16, shuffle=True, generator=g_cpu\n",
    ")\n",
    "val_dloader = DataLoader(SpectrogramDataset(*load_spectrograms(\"val\")), batch_size=16, shuffle=True, generator=g_cpu)\n",
    "# No need to seed the test loader\n",
    "test_dloader = DataLoader(SpectrogramDataset(*load_spectrograms(\"test\")), batch_size=1, shuffle=False)"
   ]
  },
  {
   "cell_type": "code",
   "execution_count": null,
   "metadata": {},
   "outputs": [],
   "source": [
    "def set_epoch(self, epoch):\n",
    "    self.epoch = epoch\n",
    "    if self.shuffle:\n",
    "        self.generator.manual_seed(2147483647 + self.epoch)"
   ]
  },
  {
   "cell_type": "code",
   "execution_count": null,
   "metadata": {},
   "outputs": [],
   "source": [
    "train_dloader.shuffle = True\n",
    "train_dloader.set_epoch = set_epoch\n",
    "\n",
    "val_dloader.shuffle = True\n",
    "val_dloader.set_epoch = set_epoch"
   ]
  },
  {
   "cell_type": "code",
   "execution_count": null,
   "metadata": {},
   "outputs": [],
   "source": [
    "torch.backends.cudnn.deterministic = True\n",
    "torch.backends.cudnn.benchmark = False"
   ]
  },
  {
   "cell_type": "code",
   "execution_count": null,
   "metadata": {},
   "outputs": [],
   "source": [
    "from models import CNN\n",
    "from utils import train_and_validate\n",
    "\n",
    "EPOCHS = 30\n",
    "learning_rate = 2e-3\n",
    "device = 'cuda' if torch.cuda.is_available() else 'cpu'\n",
    "loss_fn = nn.CrossEntropyLoss().to(device)"
   ]
  },
  {
   "cell_type": "code",
   "execution_count": null,
   "metadata": {},
   "outputs": [],
   "source": [
    "for run in range(1, 3):\n",
    "    torch.manual_seed(2147483647)\n",
    "    model = CNN(pooling=True).to(device)\n",
    "    optim = torch.optim.Adagrad(model.parameters(), lr=learning_rate)\n",
    "    loss, f1, acc, _ = train_and_validate(\n",
    "        model=model,\n",
    "        epochs=EPOCHS,\n",
    "        train_dloader=train_dloader,\n",
    "        val_dloader=val_dloader,\n",
    "        test_dloader=test_dloader,\n",
    "        optim=optim,\n",
    "        loss_fn=loss_fn,\n",
    "        device=device,\n",
    "        reproducibility=True\n",
    "    )\n",
    "    print(f'Run {run} --> Loss: {loss} | F1 score: {f1} | Accuracy: {acc}')\n"
   ]
  },
  {
   "attachments": {},
   "cell_type": "markdown",
   "metadata": {},
   "source": [
    "As we can see from the previous output, the results with respect to the total loss, the F1 score as well as for the accuracy coincide for the two identical training setups. Therefore, we can proceed by testing different training scenarios in order to find the optimal one."
   ]
  },
  {
   "attachments": {},
   "cell_type": "markdown",
   "metadata": {},
   "source": [
    "##### Step 2 (Activation functions)\n",
    "\n",
    "In this section we are experimenting with different activation functions. We set an argument `activation` in the class of the CNN that determines which activation function to be used. We apply the activation function after each convolutional operation as well as in the Feed Forward Network part of the CNN (i.e. the classifier)."
   ]
  },
  {
   "cell_type": "code",
   "execution_count": null,
   "metadata": {},
   "outputs": [],
   "source": [
    "activations = ['ReLU', 'ELU', 'Tanh', 'GeLU']\n",
    "f1s, accs, losses, names = [], [], [], []\n",
    "for f in activations:\n",
    "    names.append(f)\n",
    "    torch.manual_seed(2147483647)\n",
    "    model = CNN(pooling=True, activation=f).to(device)\n",
    "    optim = torch.optim.Adagrad(model.parameters(), lr=learning_rate)\n",
    "    loss, f1, acc, _ = train_and_validate(\n",
    "        model=model,\n",
    "        epochs=EPOCHS,\n",
    "        train_dloader=train_dloader,\n",
    "        val_dloader=val_dloader,\n",
    "        test_dloader=test_dloader,\n",
    "        optim=optim,\n",
    "        loss_fn=loss_fn,\n",
    "        device=device,\n",
    "        reproducibility=True\n",
    "    )\n",
    "    f1s.append(f1)\n",
    "    accs.append(acc)\n",
    "    losses.append(loss)\n",
    "    print(f'Activation: {f} | Loss: {loss:.3f} | F1 score: {f1:.3f} Accuracy: {acc:.3f}')"
   ]
  },
  {
   "cell_type": "code",
   "execution_count": null,
   "metadata": {},
   "outputs": [],
   "source": [
    "import pandas as pd\n",
    "\n",
    "results = pd.DataFrame({\n",
    "    'F1 score': f1s,\n",
    "    'Accuracy': accs,\n",
    "    'Loss': losses\n",
    "}, index=names).sort_values(by=['F1 score'], ascending=False)\n",
    "results"
   ]
  },
  {
   "attachments": {},
   "cell_type": "markdown",
   "metadata": {},
   "source": [
    "##### Step 3 (Learning rate scheduler)\n",
    "\n",
    "In this step we experiment with various learning rate schedules. We use the best model that we have so far which corresponds to the CNN with max pooling and ELU as activation function."
   ]
  },
  {
   "cell_type": "code",
   "execution_count": null,
   "metadata": {},
   "outputs": [],
   "source": [
    "from torch.optim.lr_scheduler import StepLR, ExponentialLR, CosineAnnealingLR\n",
    "\n",
    "schedulers = [\n",
    "    (StepLR, 'StepLR'),\n",
    "    (ExponentialLR, 'ExponentialLR'),\n",
    "    (CosineAnnealingLR, 'CosineAnnealingLR')\n",
    "]\n",
    "f1s, accs, losses, names = [], [], [], []\n",
    "\n",
    "for scheduler, name in schedulers:\n",
    "    print(f'- Scheduler: {name}\\n\\n')\n",
    "    names.append(name)\n",
    "    torch.manual_seed(2147483647)\n",
    "    model = CNN(pooling=True, activation='ELU').to(device)\n",
    "    optim = torch.optim.Adagrad(model.parameters(), lr=learning_rate)\n",
    "    if name == 'CosineAnnealingLR':\n",
    "        scheduler = scheduler(optimizer=optim, verbose=True, T_max=EPOCHS, eta_min=1e-4)\n",
    "    elif name == 'StepLR':\n",
    "        scheduler = scheduler(optimizer=optim, verbose=True, step_size=10, gamma=0.1)\n",
    "    elif name == 'ExponentialLR':\n",
    "        scheduler = scheduler(optimizer=optim, verbose=True, gamma=0.9)\n",
    "    loss, f1, acc, _ = train_and_validate(\n",
    "        model=model,\n",
    "        epochs=EPOCHS,\n",
    "        train_dloader=train_dloader,\n",
    "        val_dloader=val_dloader,\n",
    "        test_dloader=test_dloader,\n",
    "        optim=optim,\n",
    "        loss_fn=loss_fn,\n",
    "        device=device,\n",
    "        reproducibility=True,\n",
    "        scheduler=scheduler,\n",
    "        verbose=True\n",
    "    )\n",
    "    print(f'\\n- Total loss: {loss:.3f} | F1: {f1:.3f} | Acc: {acc:.3f}\\n\\n')\n",
    "    f1s.append(f1)\n",
    "    accs.append(acc)\n",
    "    losses.append(loss)"
   ]
  },
  {
   "cell_type": "code",
   "execution_count": null,
   "metadata": {},
   "outputs": [],
   "source": [
    "import pandas as pd\n",
    "\n",
    "results = pd.DataFrame({\n",
    "    'F1 score': f1s,\n",
    "    'Accuracy': accs,\n",
    "    'Loss': losses\n",
    "}, index=names).sort_values(by=['F1 score'], ascending=False)\n",
    "results"
   ]
  },
  {
   "attachments": {},
   "cell_type": "markdown",
   "metadata": {},
   "source": [
    "##### Step 4 (Batch Normalization)\n",
    "\n",
    "To further improve the performance of the CNN we apply a 2D Batch Normalization before each activation function."
   ]
  },
  {
   "cell_type": "code",
   "execution_count": null,
   "metadata": {},
   "outputs": [],
   "source": [
    "from torch.optim.lr_scheduler import CosineAnnealingLR\n",
    "\n",
    "torch.manual_seed(2147483647)\n",
    "\n",
    "model = CNN(pooling=True, activation='ELU', batchnorm=True).to(device)\n",
    "optim = torch.optim.Adagrad(model.parameters(), lr=learning_rate)\n",
    "scheduler = CosineAnnealingLR(optimizer=optim, verbose=True, T_max=EPOCHS, eta_min=1e-4)\n",
    "\n",
    "loss, f1, acc, cm = train_and_validate(\n",
    "    model=model,\n",
    "    epochs=EPOCHS,\n",
    "    train_dloader=train_dloader,\n",
    "    val_dloader=val_dloader,\n",
    "    test_dloader=test_dloader,\n",
    "    optim=optim,\n",
    "    loss_fn=loss_fn,\n",
    "    device=device,\n",
    "    reproducibility=True,\n",
    "    scheduler=scheduler,\n",
    "    verbose=True,\n",
    "    plot=True\n",
    ")"
   ]
  },
  {
   "cell_type": "code",
   "execution_count": null,
   "metadata": {},
   "outputs": [],
   "source": [
    "print(f'\\n- Total loss: {loss:.3f} | F1: {f1:.3f} | Acc: {acc:.3f}')"
   ]
  },
  {
   "cell_type": "code",
   "execution_count": null,
   "metadata": {},
   "outputs": [],
   "source": [
    "fig, ax = plt.subplots(figsize = (9, 7))\n",
    "img = ConfusionMatrixDisplay(cm, display_labels=['classical', 'hiphop', 'rock_metal_hardrock', 'blues'])\n",
    "img.plot(ax=ax)\n",
    "ax.set_title('Confusion Matrix - CNN (Batch Normalization)')\n",
    "plt.show()"
   ]
  },
  {
   "attachments": {},
   "cell_type": "markdown",
   "metadata": {},
   "source": [
    "##### Step 5 (Regularization)\n",
    "\n",
    "As we can see Batch Normalization improved the performance of the model about 3% in both the F1 and accuracy scores. However, from the train/val loss plot we can observe that the training loss constantly decreases while the validation loss stays the same after some point. To tackle this problem we can add a weight decay on the optimizer to act as a regularizer. Furthermore, we experiment by applying dropouts on the linear layers of the classifier."
   ]
  },
  {
   "attachments": {},
   "cell_type": "markdown",
   "metadata": {},
   "source": [
    "###### Regulization (L2)"
   ]
  },
  {
   "cell_type": "code",
   "execution_count": null,
   "metadata": {},
   "outputs": [],
   "source": [
    "# Only Regularization\n",
    "from torch.optim.lr_scheduler import CosineAnnealingLR\n",
    "\n",
    "EPOCHS = 60\n",
    "torch.manual_seed(2147483647)\n",
    "model = CNN(pooling=True, activation='ELU', batchnorm=True).to(device)\n",
    "optim = torch.optim.Adagrad(model.parameters(), lr=2e-3, weight_decay=1e-2)\n",
    "scheduler = CosineAnnealingLR(optimizer=optim, verbose=True, T_max=EPOCHS, eta_min=1e-4)"
   ]
  },
  {
   "cell_type": "code",
   "execution_count": null,
   "metadata": {},
   "outputs": [],
   "source": [
    "loss, f1, acc, cm = train_and_validate(\n",
    "    model=model,\n",
    "    epochs=EPOCHS,\n",
    "    train_dloader=train_dloader,\n",
    "    val_dloader=val_dloader,\n",
    "    test_dloader=test_dloader,\n",
    "    optim=optim,\n",
    "    loss_fn=loss_fn,\n",
    "    device=device,\n",
    "    reproducibility=True,\n",
    "    scheduler=scheduler,\n",
    "    verbose=True,\n",
    "    plot=True\n",
    ")"
   ]
  },
  {
   "cell_type": "code",
   "execution_count": null,
   "metadata": {},
   "outputs": [],
   "source": [
    "print(f'\\n- Total loss: {loss:.3f} | F1: {f1:.3f} | Acc: {acc:.3f}')"
   ]
  },
  {
   "cell_type": "code",
   "execution_count": null,
   "metadata": {},
   "outputs": [],
   "source": [
    "fig, ax = plt.subplots(figsize = (9, 7))\n",
    "img = ConfusionMatrixDisplay(cm, display_labels=['classical', 'hiphop', 'rock_metal_hardrock', 'blues'])\n",
    "img.plot(ax=ax)\n",
    "ax.set_title('Confusion Matrix - CNN (Batch Normalization)')\n",
    "plt.show()"
   ]
  },
  {
   "attachments": {},
   "cell_type": "markdown",
   "metadata": {},
   "source": [
    "###### Dropout"
   ]
  },
  {
   "cell_type": "code",
   "execution_count": null,
   "metadata": {},
   "outputs": [],
   "source": [
    "# Dropout only\n",
    "\n",
    "EPOCHS = 60\n",
    "torch.manual_seed(2147483647)\n",
    "model = CNN(pooling=True, activation='ELU', batchnorm=True, dropout_rate=0.2).to(device)\n",
    "optim = torch.optim.Adagrad(model.parameters(), lr=2e-3)\n",
    "scheduler = CosineAnnealingLR(optimizer=optim, verbose=True, T_max=EPOCHS, eta_min=1e-4)"
   ]
  },
  {
   "cell_type": "code",
   "execution_count": null,
   "metadata": {},
   "outputs": [],
   "source": [
    "loss, f1, acc, cm = train_and_validate(\n",
    "    model=model,\n",
    "    epochs=EPOCHS,\n",
    "    train_dloader=train_dloader,\n",
    "    val_dloader=val_dloader,\n",
    "    test_dloader=test_dloader,\n",
    "    optim=optim,\n",
    "    loss_fn=loss_fn,\n",
    "    device=device,\n",
    "    reproducibility=True,\n",
    "    scheduler=scheduler,\n",
    "    verbose=True,\n",
    "    plot=True\n",
    ")"
   ]
  },
  {
   "cell_type": "code",
   "execution_count": null,
   "metadata": {},
   "outputs": [],
   "source": [
    "print(f'\\n- Total loss: {loss:.3f} | F1: {f1:.3f} | Acc: {acc:.3f}')"
   ]
  },
  {
   "cell_type": "code",
   "execution_count": null,
   "metadata": {},
   "outputs": [],
   "source": [
    "fig, ax = plt.subplots(figsize = (9, 7))\n",
    "img = ConfusionMatrixDisplay(cm, display_labels=['classical', 'hiphop', 'rock_metal_hardrock', 'blues'])\n",
    "img.plot(ax=ax)\n",
    "ax.set_title('Confusion Matrix - CNN (Batch Normalization)')\n",
    "plt.show()"
   ]
  },
  {
   "attachments": {},
   "cell_type": "markdown",
   "metadata": {},
   "source": [
    "###### Regularization + Dropout"
   ]
  },
  {
   "cell_type": "code",
   "execution_count": null,
   "metadata": {},
   "outputs": [],
   "source": [
    "# Regularization + Dropout\n",
    "\n",
    "EPOCHS = 60\n",
    "torch.manual_seed(2147483647)\n",
    "model = CNN(pooling=True, activation='ELU', batchnorm=True, dropout_rate=0.2).to(device)\n",
    "optim = torch.optim.Adagrad(model.parameters(), lr=2e-3, weight_decay=1e-2)\n",
    "scheduler = CosineAnnealingLR(optimizer=optim, verbose=True, T_max=EPOCHS, eta_min=1e-4)"
   ]
  },
  {
   "cell_type": "code",
   "execution_count": null,
   "metadata": {},
   "outputs": [],
   "source": [
    "loss, f1, acc, cm = train_and_validate(\n",
    "    model=model,\n",
    "    epochs=EPOCHS,\n",
    "    train_dloader=train_dloader,\n",
    "    val_dloader=val_dloader,\n",
    "    test_dloader=test_dloader,\n",
    "    optim=optim,\n",
    "    loss_fn=loss_fn,\n",
    "    device=device,\n",
    "    reproducibility=True,\n",
    "    scheduler=scheduler,\n",
    "    verbose=True,\n",
    "    plot=True\n",
    ")"
   ]
  },
  {
   "cell_type": "code",
   "execution_count": null,
   "metadata": {},
   "outputs": [],
   "source": [
    "print(f'\\n- Total loss: {loss:.3f} | F1: {f1:.3f} | Acc: {acc:.3f}')"
   ]
  },
  {
   "cell_type": "code",
   "execution_count": null,
   "metadata": {},
   "outputs": [],
   "source": [
    "fig, ax = plt.subplots(figsize = (9, 7))\n",
    "img = ConfusionMatrixDisplay(cm, display_labels=['classical', 'hiphop', 'rock_metal_hardrock', 'blues'])\n",
    "img.plot(ax=ax)\n",
    "ax.set_title('Confusion Matrix - CNN (Batch Normalization)')\n",
    "plt.show()"
   ]
  },
  {
   "attachments": {},
   "cell_type": "markdown",
   "metadata": {},
   "source": [
    "##### Step 6 (Training efficiency)\n",
    "\n",
    "In this step we try different batch sizes and we use Early stopping in order to reduce the training time."
   ]
  },
  {
   "cell_type": "code",
   "execution_count": null,
   "metadata": {},
   "outputs": [],
   "source": [
    "from models import CNN\n",
    "from utils import train_and_validate, SpectrogramDataset\n",
    "from torch.optim.lr_scheduler import CosineAnnealingLR\n",
    "import time\n",
    "\n",
    "batch_sizes = [2**4, 2**5, 2**6, 2**7]\n",
    "EPOCHS = 60\n",
    "learning_rate = 2e-3\n",
    "device = 'cuda' if torch.cuda.is_available() else 'cpu'\n",
    "loss_fn = nn.CrossEntropyLoss().to(device)\n",
    "\n",
    "batches, losses, f1s, accs, times = [], [], [], [], []\n",
    "\n",
    "for batch_size in batch_sizes:\n",
    "    train_dloader = DataLoader(SpectrogramDataset(*load_spectrograms(\"train\")), batch_size=batch_size, shuffle=True)\n",
    "    val_dloader = DataLoader(SpectrogramDataset(*load_spectrograms(\"val\")), batch_size=batch_size, shuffle=True)\n",
    "    test_dloader = DataLoader(SpectrogramDataset(*load_spectrograms(\"test\")), batch_size=1, shuffle=False)\n",
    "\n",
    "    model = CNN(pooling=True, activation='ELU', batchnorm=True).to(device)\n",
    "    optim = torch.optim.Adagrad(model.parameters(), lr=learning_rate, weight_decay=1e-2)\n",
    "    scheduler = CosineAnnealingLR(optimizer=optim, verbose=True, T_max=EPOCHS, eta_min=1e-4)\n",
    "\n",
    "    tic = time.perf_counter()\n",
    "    loss, f1, acc, _ = train_and_validate(\n",
    "        model=model,\n",
    "        epochs=EPOCHS,\n",
    "        train_dloader=train_dloader,\n",
    "        val_dloader=val_dloader,\n",
    "        test_dloader=test_dloader,\n",
    "        optim=optim,\n",
    "        loss_fn=loss_fn,\n",
    "        device=device,\n",
    "        scheduler=scheduler,\n",
    "        verbose=False,\n",
    "        f1_flag=False,\n",
    "        ear_stopping_flag=True\n",
    "    )\n",
    "    tac = time.perf_counter()\n",
    "    batches.append(batch_size)\n",
    "    losses.append(loss)\n",
    "    f1s.append(f1)\n",
    "    accs.append(acc)\n",
    "    times.append(tac - tic)\n",
    "\n",
    "    print(f'Batch size: {batch_size} | F1 score: {f1:.3f} | Acc: {acc:.3f} | Time: {(tac-tic):.3f}')"
   ]
  },
  {
   "cell_type": "code",
   "execution_count": null,
   "metadata": {},
   "outputs": [],
   "source": [
    "import pandas as pd\n",
    "\n",
    "results = pd.DataFrame({\n",
    "    'F1 score': f1s,\n",
    "    'Accuracy': accs,\n",
    "    'Losses': losses,\n",
    "    'Time': times\n",
    "}, index=batch_sizes).sort_values(by=['F1 score'], ascending=False)\n",
    "\n",
    "results"
   ]
  },
  {
   "attachments": {},
   "cell_type": "markdown",
   "metadata": {},
   "source": [
    "We see that the highest F1 score is achieved for batch size equal to 64. Below we perform the last training with the best hyperparameters to get the best model weights that we will use for inference in the last section."
   ]
  },
  {
   "cell_type": "code",
   "execution_count": null,
   "metadata": {},
   "outputs": [],
   "source": [
    "model = CNN(pooling=True, activation='ELU', batchnorm=True).to(device)\n",
    "optim = torch.optim.Adagrad(model.parameters(), lr=learning_rate, weight_decay=1e-2)\n",
    "scheduler = CosineAnnealingLR(optimizer=optim, verbose=True, T_max=EPOCHS, eta_min=1e-4)"
   ]
  },
  {
   "cell_type": "code",
   "execution_count": null,
   "metadata": {},
   "outputs": [],
   "source": [
    "train_dloader = DataLoader(SpectrogramDataset(*load_spectrograms(\"train\")), batch_size=64, shuffle=True)\n",
    "val_dloader = DataLoader(SpectrogramDataset(*load_spectrograms(\"val\")), batch_size=64, shuffle=True)\n",
    "test_dloader = DataLoader(SpectrogramDataset(*load_spectrograms(\"test\")), batch_size=1, shuffle=False)"
   ]
  },
  {
   "cell_type": "code",
   "execution_count": null,
   "metadata": {},
   "outputs": [],
   "source": [
    "loss, f1, acc, cm = train_and_validate(\n",
    "    model=model,\n",
    "    epochs=EPOCHS,\n",
    "    train_dloader=train_dloader,\n",
    "    val_dloader=val_dloader,\n",
    "    test_dloader=test_dloader,\n",
    "    optim=optim,\n",
    "    loss_fn=loss_fn,\n",
    "    device=device,\n",
    "    scheduler=scheduler,\n",
    "    verbose=True,\n",
    "    f1_flag=False,\n",
    "    ear_stopping_flag=True,\n",
    "    plot=True\n",
    ")"
   ]
  },
  {
   "cell_type": "code",
   "execution_count": null,
   "metadata": {},
   "outputs": [],
   "source": [
    "print(f'F1 score: {f1:.3f} | Acc: {acc:.3f} | Time: {(tac-tic):.3f}')"
   ]
  },
  {
   "cell_type": "code",
   "execution_count": null,
   "metadata": {},
   "outputs": [],
   "source": [
    "fig, ax = plt.subplots(figsize = (9, 7))\n",
    "img = ConfusionMatrixDisplay(cm, display_labels=['classical', 'hiphop', 'rock_metal_hardrock', 'blues'])\n",
    "img.plot(ax=ax)\n",
    "ax.set_title('Confusion Matrix - CNN (Best Model)')\n",
    "plt.show()"
   ]
  },
  {
   "attachments": {},
   "cell_type": "markdown",
   "metadata": {},
   "source": [
    "### Step 4 (Testing)\n",
    "\n",
    "In this section we use the best model obtained from the previous experiments in order to make predictions to songs downloaded from youtube. We use the script `youtube.py` to download the songs from youtube and extract the spectrograms representations for each 1 second of the downloaded songs."
   ]
  },
  {
   "attachments": {},
   "cell_type": "markdown",
   "metadata": {},
   "source": [
    "##### Step 1 (Inference)\n",
    "\n",
    "We first construct a utility function that will be used for inference."
   ]
  },
  {
   "cell_type": "code",
   "execution_count": 30,
   "metadata": {},
   "outputs": [],
   "source": [
    "from utils import INV_CLASS_MAPPING, CLASS_MAPPING\n",
    "from sklearn.metrics import accuracy_score\n",
    "from models import CNN\n",
    "from utils import SpectrogramDataset\n",
    "from torch.utils.data import DataLoader\n",
    "\n",
    "def inference(model, d_loader, song_name):\n",
    "    model.eval()\n",
    "    y_pred = []\n",
    "    y_pred_2 = []\n",
    "    y_true_2 = []\n",
    "    with torch.no_grad():\n",
    "        for X, y in d_loader:\n",
    "            out = model(X)\n",
    "            pred = torch.argmax(out, dim=-1)\n",
    "            y_pred_2.append(pred.item())\n",
    "            y_true_2.append(y.item())\n",
    "            y_pred.append(INV_CLASS_MAPPING[pred.item()])\n",
    "            true_genre = INV_CLASS_MAPPING[y.item()]\n",
    "    \n",
    "    results = {}\n",
    "    y_pred_2 = np.array(y_pred_2)\n",
    "    for k, v in CLASS_MAPPING.items():\n",
    "        results[k] = len(y_pred_2[y_pred_2 == v])\n",
    "    results['total predictions'] = len(y_pred_2)\n",
    "    results['Accuracy'] = accuracy_score(y_true_2, y_pred_2)\n",
    "\n",
    "    fig, ax = plt.subplots(figsize=(8, 4))\n",
    "    ax.scatter(range(len(y_pred)), y_pred, s=5)\n",
    "    ax.set_xlabel('Timestamp [s]')\n",
    "    ax.set_ylabel('Genre')\n",
    "    ax.set_title(f'Predictions for {song_name} ({true_genre})')\n",
    "    plt.legend()\n",
    "    plt.show()\n",
    "    \n",
    "    print(f'\\n{results}')"
   ]
  },
  {
   "attachments": {},
   "cell_type": "markdown",
   "metadata": {},
   "source": [
    "##### Step 2 & 3 (Downloading songs and Inference)"
   ]
  },
  {
   "cell_type": "code",
   "execution_count": 27,
   "metadata": {},
   "outputs": [],
   "source": [
    "from youtube import youtube_to_melgram\n",
    "\n",
    "songs = {\n",
    "    'Chopin - Nocturne': {\n",
    "        'url': 'https://www.youtube.com/watch?v=9E6b3swbnWg',\n",
    "        'genre': 'classical',\n",
    "        'name': 'Nocturne'\n",
    "    },\n",
    "    'Madonna - Hung Up': {\n",
    "        'url': 'https://www.youtube.com/watch?v=EDwb9jOVRtU',\n",
    "        'genre': 'hiphop',\n",
    "        'name': 'Hung_up'\n",
    "    },\n",
    "    'Placebo - Every You Every Me': {\n",
    "        'url': 'https://www.youtube.com/watch?v=OMaycNcPsHI',\n",
    "        'genre': 'rock_metal_hardrock',\n",
    "        'name': 'Placebo'\n",
    "    },\n",
    "    'BB King:How Blue Can You Get': {\n",
    "        'url': 'https://www.youtube.com/watch?v=l45f28PzfCI',\n",
    "        'genre': 'blues',\n",
    "        'name': 'BB_King'\n",
    "    }\n",
    "}"
   ]
  },
  {
   "cell_type": "code",
   "execution_count": 28,
   "metadata": {},
   "outputs": [
    {
     "data": {
      "text/plain": [
       "<All keys matched successfully>"
      ]
     },
     "execution_count": 28,
     "metadata": {},
     "output_type": "execute_result"
    }
   ],
   "source": [
    "model = CNN(pooling=True, activation='ELU', batchnorm=True)\n",
    "model.load_state_dict(torch.load('model.pt', map_location=torch.device('cpu')))"
   ]
  },
  {
   "cell_type": "code",
   "execution_count": 31,
   "metadata": {},
   "outputs": [
    {
     "name": "stderr",
     "output_type": "stream",
     "text": [
      "WARNING: Post-Processor arguments given without specifying name. The arguments will be given to all post-processors\n",
      "No artists with labels found to put in legend.  Note that artists whose label start with an underscore are ignored when legend() is called with no argument.\n"
     ]
    },
    {
     "data": {
      "image/png": "[encoded data removed]",
      "text/plain": [
       "<Figure size 800x400 with 1 Axes>"
      ]
     },
     "metadata": {},
     "output_type": "display_data"
    },
    {
     "name": "stdout",
     "output_type": "stream",
     "text": [
      "\n",
      "{'classical': 268, 'hiphop': 0, 'rock_metal_hardrock': 2, 'blues': 0, 'total predictions': 270, 'Accuracy': 0.9925925925925926}\n"
     ]
    },
    {
     "name": "stderr",
     "output_type": "stream",
     "text": [
      "WARNING: Post-Processor arguments given without specifying name. The arguments will be given to all post-processors\n",
      "No artists with labels found to put in legend.  Note that artists whose label start with an underscore are ignored when legend() is called with no argument.\n"
     ]
    },
    {
     "data": {
      "image/png": "[encoded data removed]",
      "text/plain": [
       "<Figure size 800x400 with 1 Axes>"
      ]
     },
     "metadata": {},
     "output_type": "display_data"
    },
    {
     "name": "stdout",
     "output_type": "stream",
     "text": [
      "\n",
      "{'classical': 23, 'hiphop': 108, 'rock_metal_hardrock': 158, 'blues': 45, 'total predictions': 334, 'Accuracy': 0.32335329341317365}\n"
     ]
    },
    {
     "name": "stderr",
     "output_type": "stream",
     "text": [
      "WARNING: Post-Processor arguments given without specifying name. The arguments will be given to all post-processors\n",
      "No artists with labels found to put in legend.  Note that artists whose label start with an underscore are ignored when legend() is called with no argument.\n"
     ]
    },
    {
     "data": {
      "image/png": "[encoded data removed]",
      "text/plain": [
       "<Figure size 800x400 with 1 Axes>"
      ]
     },
     "metadata": {},
     "output_type": "display_data"
    },
    {
     "name": "stdout",
     "output_type": "stream",
     "text": [
      "\n",
      "{'classical': 6, 'hiphop': 1, 'rock_metal_hardrock': 205, 'blues': 4, 'total predictions': 216, 'Accuracy': 0.9490740740740741}\n"
     ]
    },
    {
     "name": "stderr",
     "output_type": "stream",
     "text": [
      "WARNING: Post-Processor arguments given without specifying name. The arguments will be given to all post-processors\n",
      "No artists with labels found to put in legend.  Note that artists whose label start with an underscore are ignored when legend() is called with no argument.\n"
     ]
    },
    {
     "data": {
      "image/png": "[encoded data removed]",
      "text/plain": [
       "<Figure size 800x400 with 1 Axes>"
      ]
     },
     "metadata": {},
     "output_type": "display_data"
    },
    {
     "name": "stdout",
     "output_type": "stream",
     "text": [
      "\n",
      "{'classical': 11, 'hiphop': 44, 'rock_metal_hardrock': 80, 'blues': 178, 'total predictions': 313, 'Accuracy': 0.5686900958466453}\n"
     ]
    }
   ],
   "source": [
    "# Inference on songs\n",
    "\n",
    "for song_name in songs:\n",
    "    X = youtube_to_melgram(songs[song_name]['url'], songs[song_name]['name'])\n",
    "    y = X.shape[0] * [CLASS_MAPPING[songs[song_name]['genre']]]\n",
    "    \n",
    "    d_loader = DataLoader(SpectrogramDataset(X, y), batch_size=1, shuffle=False)\n",
    "    inference(model, d_loader, song_name)"
   ]
  },
  {
   "cell_type": "code",
   "execution_count": null,
   "metadata": {},
   "outputs": [],
   "source": []
  }
 ],
 "metadata": {
  "kernelspec": {
   "display_name": "music_genre",
   "language": "python",
   "name": "python3"
  },
  "language_info": {
   "codemirror_mode": {
    "name": "ipython",
    "version": 3
   },
   "file_extension": ".py",
   "mimetype": "text/x-python",
   "name": "python",
   "nbconvert_exporter": "python",
   "pygments_lexer": "ipython3",
   "version": "3.9.16"
  },
  "orig_nbformat": 4
 },
 "nbformat": 4,
 "nbformat_minor": 2
}
